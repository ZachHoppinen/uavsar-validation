{
 "cells": [
  {
   "cell_type": "code",
   "execution_count": 9,
   "metadata": {},
   "outputs": [
    {
     "name": "stdout",
     "output_type": "stream",
     "text": [
      "232_2021-01-27_2021-02-03\n",
      "['cor', 'int', 'unw', 'inc']\n",
      "232_2021-03-16_2021-03-22\n",
      "['cor', 'int', 'unw', 'inc']\n",
      "232_2021-03-10_2021-03-16\n",
      "['cor', 'int', 'unw', 'inc']\n",
      "052_2021-03-16_2021-03-22\n",
      "['cor', 'int', 'unw', 'inc']\n",
      "232_2019-12-20_2020-01-31\n",
      "['cor', 'int', 'inc']\n",
      "232_2021-01-20_2021-01-27\n",
      "['cor', 'int', 'unw', 'inc']\n",
      "232_2020-02-21_2020-03-11\n",
      "['cor', 'int', 'unw', 'inc']\n",
      "232_2020-01-31_2020-02-13\n",
      "['cor', 'int', 'inc']\n",
      "232_2021-01-15_2021-01-20\n",
      "['cor', 'int', 'unw', 'inc']\n",
      "052_2021-03-03_2021-03-10\n",
      "['cor', 'int', 'unw', 'inc']\n",
      "232_2021-03-03_2021-03-10\n",
      "['cor', 'int', 'unw', 'inc']\n",
      "052_2021-03-10_2021-03-16\n",
      "['cor', 'int', 'unw', 'inc']\n",
      "232_2021-02-03_2021-02-10\n",
      "['cor', 'int', 'unw', 'inc']\n",
      "052_2021-02-03_2021-02-10\n",
      "['cor', 'int', 'unw', 'inc']\n",
      "052_2021-02-10_2021-03-03\n",
      "['cor', 'int', 'unw', 'inc']\n",
      "232_2020-02-13_2020-02-21\n",
      "['cor', 'int', 'unw', 'inc']\n",
      "232_2021-02-10_2021-03-03\n",
      "['cor', 'int', 'inc']\n"
     ]
    }
   ],
   "source": [
    "from pathlib import Path\n",
    "ncs_dir = Path('/bsuscratch/zacharykeskinen/data/uavsar/ncs')\n",
    "\n",
    "import xarray as xr\n",
    "\n",
    "for fp in ncs_dir.glob('*.nc'):\n",
    "    if '.sd' in fp.name:\n",
    "        continue\n",
    "\n",
    "    ds = xr.open_dataset(fp)\n",
    "\n",
    "    print(fp.name.replace('.nc',''))\n",
    "    print(list(ds.data_vars))"
   ]
  },
  {
   "cell_type": "code",
   "execution_count": null,
   "metadata": {},
   "outputs": [],
   "source": []
  }
 ],
 "metadata": {
  "kernelspec": {
   "display_name": "proj",
   "language": "python",
   "name": "python3"
  },
  "language_info": {
   "codemirror_mode": {
    "name": "ipython",
    "version": 3
   },
   "file_extension": ".py",
   "mimetype": "text/x-python",
   "name": "python",
   "nbconvert_exporter": "python",
   "pygments_lexer": "ipython3",
   "version": "3.9.16"
  },
  "orig_nbformat": 4,
  "vscode": {
   "interpreter": {
    "hash": "be18628f3b6aaaf0d9a50c1a0a68c0122e22b01f7b4495836f3dc0caac12767e"
   }
  }
 },
 "nbformat": 4,
 "nbformat_minor": 2
}
