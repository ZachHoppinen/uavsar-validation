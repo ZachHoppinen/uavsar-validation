{
 "cells": [
  {
   "cell_type": "code",
   "execution_count": 1,
   "metadata": {},
   "outputs": [],
   "source": [
    "import pandas as pd\n",
    "df = pd.read_parquet('/bsuhome/zacharykeskinen/uavsar-validation/data/insitu/snotel.parq')\n",
    "df.sort_index()"
   ]
  },
  {
   "cell_type": "code",
   "execution_count": 36,
   "metadata": {},
   "outputs": [
    {
     "name": "stdout",
     "output_type": "stream",
     "text": [
      "Banner Knob\n",
      "                    lon       lat dTime\n",
      "end_datetime                           \n",
      "2021-01-20   -115.24387  44.29086   NaT\n",
      "1\n",
      "                                                   -\n",
      "Banner Snotel\n",
      "                    lon       lat   dTime\n",
      "end_datetime                             \n",
      "2020-01-30   -115.23462  44.30359 43 days\n",
      "2020-02-13   -115.23454  44.30363 14 days\n",
      "2020-02-19   -115.23454  44.30360  6 days\n",
      "2020-03-12   -115.23460  44.30359 22 days\n",
      "2021-01-20   -115.23459  44.30365  5 days\n",
      "2021-01-28   -115.23456  44.30361  8 days\n",
      "2021-02-04   -115.23457  44.30352  7 days\n",
      "2021-02-10   -115.23465  44.30350  6 days\n",
      "2021-03-03   -115.23466  44.30354 21 days\n",
      "2021-03-10   -115.23453  44.30360  7 days\n",
      "2021-03-17   -115.23460  44.30360  7 days\n",
      "2021-03-22   -115.23456  44.30355  5 days\n",
      "12\n",
      "                                                   -\n",
      "Lower Deer Point - Open\n",
      "                    lon       lat   dTime\n",
      "end_datetime                             \n",
      "2021-01-21   -116.12208  43.73691  6 days\n",
      "2021-01-26   -116.12208  43.73691  5 days\n",
      "2021-02-04   -116.12208  43.73691  9 days\n",
      "2021-02-09   -116.12180  43.73670  5 days\n",
      "2021-03-02   -116.12181  43.73719 21 days\n",
      "2021-03-09   -116.12181  43.73718  7 days\n",
      "2021-03-16   -116.12169  43.73705  7 days\n",
      "2021-03-23   -116.12185  43.73704  7 days\n",
      "8\n",
      "                                                   -\n",
      "Lower Deer Point - Tree\n",
      "                    lon       lat   dTime\n",
      "end_datetime                             \n",
      "2021-01-21   -116.12072  43.73634     NaT\n",
      "2021-01-26   -116.12072  43.73634  5 days\n",
      "2021-03-02   -116.12072  43.73634 21 days\n",
      "2021-03-09   -116.12052  43.73632  7 days\n",
      "2021-03-16   -116.12064  43.73629  7 days\n",
      "2021-03-23   -116.12056  43.73639  7 days\n",
      "6\n",
      "                                                   -\n",
      "Bogus Lower Trees\n",
      "                    lon       lat  dTime\n",
      "end_datetime                            \n",
      "2021-01-22   -116.09078  43.75689 8 days\n",
      "2021-01-27   -116.09071  43.75695 5 days\n",
      "2021-03-02   -116.09077  43.75684    NaT\n",
      "2021-03-09   -116.09071  43.75679 7 days\n",
      "2021-03-18   -116.09067  43.75666 9 days\n",
      "5\n",
      "                                                   -\n",
      "Bogus Lower\n",
      "                    lon       lat   dTime\n",
      "end_datetime                             \n",
      "2021-01-22   -116.09099  43.75705  8 days\n",
      "2021-01-27   -116.09078  43.75722  5 days\n",
      "2021-02-02   -116.09163  43.75716  6 days\n",
      "2021-02-11   -116.09099  43.75705  9 days\n",
      "2021-03-02   -116.09097  43.75701 19 days\n",
      "2021-03-09   -116.09091  43.75708  7 days\n",
      "2021-03-18   -116.09092  43.75692  9 days\n",
      "2021-03-24   -116.09102  43.75706  6 days\n",
      "8\n",
      "                                                   -\n",
      "Mores Creek Summit\n",
      "                    lon       lat dTime\n",
      "end_datetime                           \n",
      "2020-02-12   -115.67666  43.94735   NaT\n",
      "2021-03-04   -115.67719  43.94793   NaT\n",
      "2\n",
      "                                                   -\n",
      "LDP Open\n",
      "                    lon       lat   dTime\n",
      "end_datetime                             \n",
      "2020-01-31   -116.12188  43.73701     NaT\n",
      "2020-02-12   -116.12188  43.73705 12 days\n",
      "2020-02-20   -116.12185  43.73703  8 days\n",
      "2020-03-11   -116.12164  43.73719 20 days\n",
      "4\n",
      "                                                   -\n",
      "LDP Tree\n",
      "                    lon       lat   dTime\n",
      "end_datetime                             \n",
      "2020-01-31   -116.12050  43.73640     NaT\n",
      "2020-02-12   -116.12055  43.73630 12 days\n",
      "2020-02-20   -116.12052  43.73634  8 days\n",
      "2020-03-11   -116.12060  43.73636 20 days\n",
      "4\n",
      "                                                   -\n",
      "Banner Open\n",
      "                    lon       lat   dTime\n",
      "end_datetime                             \n",
      "2020-01-30   -115.23598  44.30461 43 days\n",
      "2020-02-13   -115.23606  44.30447 14 days\n",
      "2020-02-19   -115.23603  44.30462  6 days\n",
      "2020-03-12   -115.23607  44.30443 22 days\n",
      "2021-03-18   -115.23613  44.30421     NaT\n",
      "5\n",
      "                                                   -\n",
      "Bogus Upper\n",
      "                    lon       lat   dTime\n",
      "end_datetime                             \n",
      "2020-01-31   -116.09017  43.75878 43 days\n",
      "2020-02-14   -116.09017  43.75884 14 days\n",
      "2020-02-20   -116.09017  43.75881  6 days\n",
      "2020-03-11   -116.09025  43.75882 20 days\n",
      "4\n",
      "                                                   -\n",
      "Mores Mountain\n",
      "                   lon      lat dTime\n",
      "end_datetime                         \n",
      "2021-02-03   -116.0911  43.7916   NaT\n",
      "1\n",
      "                                                   -\n"
     ]
    }
   ],
   "source": [
    "import pandas as pd\n",
    "df = pd.read_parquet('/bsuhome/zacharykeskinen/uavsar-validation/data/insitu/insitu_uavsar.parq')\n",
    "for name in df[(df.site_name != 'mores') & (df.site_name != 'bogus') & (df.site_name != 'banner')].site_name.unique():\n",
    "\n",
    "    print(name)\n",
    "    print(df[df.site_name == name][['end_datetime', 'lon', 'lat', 'dTime']].set_index('end_datetime').sort_index().drop_duplicates())\n",
    "\n",
    "    print(len(df[df.site_name == name][['end_datetime', 'lon', 'lat', 'dTime']].set_index('end_datetime').sort_index().drop_duplicates()))\n",
    "    print(''.center(50), '-')"
   ]
  },
  {
   "cell_type": "code",
   "execution_count": 29,
   "metadata": {},
   "outputs": [
    {
     "data": {
      "text/plain": [
       "12"
      ]
     },
     "execution_count": 29,
     "metadata": {},
     "output_type": "execute_result"
    }
   ],
   "source": [
    "df[df.site_name == 'Banner Snotel'][['end_datetime', 'lon', 'lat', 'dTime']].set_index('end_datetime').sort_index().drop_duplicates()\n",
    "\n",
    "len(df[df.site_name == 'Banner Snotel'][['end_datetime', 'lon', 'lat', 'dTime']].set_index('end_datetime').sort_index().drop_duplicates())"
   ]
  },
  {
   "cell_type": "code",
   "execution_count": 27,
   "metadata": {},
   "outputs": [
    {
     "name": "stdout",
     "output_type": "stream",
     "text": [
      "                    lon       lat   dTime    dSWE\n",
      "end_datetime                                     \n",
      "2021-01-21   -116.12208  43.73691  6 days  0.0505\n",
      "2021-01-26   -116.12208  43.73691  5 days  0.0340\n",
      "2021-02-04   -116.12208  43.73691  9 days -0.0150\n",
      "2021-02-09   -116.12180  43.73670  5 days  0.0025\n",
      "2021-03-02   -116.12181  43.73719 21 days  0.0935\n",
      "2021-03-09   -116.12181  43.73718  7 days -0.0390\n",
      "2021-03-16   -116.12169  43.73705  7 days -0.0315\n",
      "2021-03-23   -116.12185  43.73704  7 days -0.0085\n"
     ]
    },
    {
     "data": {
      "text/plain": [
       "8"
      ]
     },
     "execution_count": 27,
     "metadata": {},
     "output_type": "execute_result"
    }
   ],
   "source": [
    "print(df[df.site_name == 'Lower Deer Point - Open'][['end_datetime', 'lon', 'lat', 'dTime', 'dSWE']].set_index('end_datetime').sort_index().drop_duplicates())\n",
    "\n",
    "len(df[df.site_name == 'Lower Deer Point - Open'][['end_datetime', 'lon', 'lat', 'dTime']].set_index('end_datetime').sort_index().drop_duplicates())"
   ]
  },
  {
   "cell_type": "code",
   "execution_count": 30,
   "metadata": {},
   "outputs": [
    {
     "name": "stdout",
     "output_type": "stream",
     "text": [
      "                    lon       lat   dTime    dSWE\n",
      "end_datetime                                     \n",
      "2021-01-21   -116.12072  43.73634     NaT     NaN\n",
      "2021-01-26   -116.12072  43.73634  5 days -0.0215\n",
      "2021-03-02   -116.12072  43.73634 21 days  0.0775\n",
      "2021-03-09   -116.12052  43.73632  7 days -0.0150\n",
      "2021-03-16   -116.12064  43.73629  7 days -0.0230\n",
      "2021-03-23   -116.12056  43.73639  7 days -0.0115\n"
     ]
    },
    {
     "data": {
      "text/plain": [
       "6"
      ]
     },
     "execution_count": 30,
     "metadata": {},
     "output_type": "execute_result"
    }
   ],
   "source": [
    "print(df[df.site_name == 'Lower Deer Point - Tree'][['end_datetime', 'lon', 'lat', 'dTime', 'dSWE']].set_index('end_datetime').sort_index().drop_duplicates())\n",
    "\n",
    "len(df[df.site_name == 'Lower Deer Point - Tree'][['end_datetime', 'lon', 'lat', 'dTime']].set_index('end_datetime').sort_index().drop_duplicates())"
   ]
  },
  {
   "cell_type": "code",
   "execution_count": 31,
   "metadata": {},
   "outputs": [
    {
     "name": "stdout",
     "output_type": "stream",
     "text": [
      "                    lon       lat  dTime    dSWE\n",
      "end_datetime                                    \n",
      "2021-01-22   -116.09078  43.75689 8 days -0.0165\n",
      "2021-01-27   -116.09071  43.75695 5 days  0.0035\n",
      "2021-03-02   -116.09077  43.75684    NaT     NaN\n",
      "2021-03-09   -116.09071  43.75679 7 days -0.0560\n",
      "2021-03-18   -116.09067  43.75666 9 days -0.0035\n"
     ]
    },
    {
     "data": {
      "text/plain": [
       "5"
      ]
     },
     "execution_count": 31,
     "metadata": {},
     "output_type": "execute_result"
    }
   ],
   "source": [
    "print(df[df.site_name == 'Bogus Lower Trees'][['end_datetime', 'lon', 'lat', 'dTime', 'dSWE']].set_index('end_datetime').sort_index().drop_duplicates())\n",
    "\n",
    "len(df[df.site_name == 'Bogus Lower Trees'][['end_datetime', 'lon', 'lat', 'dTime']].set_index('end_datetime').sort_index().drop_duplicates())"
   ]
  },
  {
   "cell_type": "code",
   "execution_count": 33,
   "metadata": {},
   "outputs": [
    {
     "name": "stdout",
     "output_type": "stream",
     "text": [
      "                    lon       lat   dTime    dSWE\n",
      "end_datetime                                     \n",
      "2021-01-22   -116.09099  43.75705  8 days  0.0515\n",
      "2021-01-27   -116.09078  43.75722  5 days -0.0645\n",
      "2021-02-02   -116.09163  43.75716  6 days  0.0795\n",
      "2021-02-11   -116.09099  43.75705  9 days  0.0090\n",
      "2021-03-02   -116.09097  43.75701 19 days  0.1725\n",
      "2021-03-09   -116.09091  43.75708  7 days -0.0560\n",
      "2021-03-18   -116.09092  43.75692  9 days  0.0275\n",
      "2021-03-24   -116.09102  43.75706  6 days -0.0870\n"
     ]
    },
    {
     "data": {
      "text/plain": [
       "8"
      ]
     },
     "execution_count": 33,
     "metadata": {},
     "output_type": "execute_result"
    }
   ],
   "source": [
    "print(df[df.site_name == 'Bogus Lower'][['end_datetime', 'lon', 'lat', 'dTime', 'dSWE']].set_index('end_datetime').sort_index().drop_duplicates())\n",
    "\n",
    "len(df[df.site_name == 'Bogus Lower'][['end_datetime', 'lon', 'lat', 'dTime']].set_index('end_datetime').sort_index().drop_duplicates())"
   ]
  },
  {
   "cell_type": "code",
   "execution_count": 34,
   "metadata": {},
   "outputs": [
    {
     "name": "stdout",
     "output_type": "stream",
     "text": [
      "                    lon       lat dTime  dSWE\n",
      "end_datetime                                 \n",
      "2020-02-12   -115.67666  43.94735   NaT   NaN\n",
      "2021-03-04   -115.67719  43.94793   NaT   NaN\n"
     ]
    },
    {
     "data": {
      "text/plain": [
       "2"
      ]
     },
     "execution_count": 34,
     "metadata": {},
     "output_type": "execute_result"
    }
   ],
   "source": [
    "print(df[df.site_name == 'Mores Creek Summit'][['end_datetime', 'lon', 'lat', 'dTime', 'dSWE']].set_index('end_datetime').sort_index().drop_duplicates())\n",
    "\n",
    "len(df[df.site_name == 'Mores Creek Summit'][['end_datetime', 'lon', 'lat', 'dTime']].set_index('end_datetime').sort_index().drop_duplicates())"
   ]
  },
  {
   "cell_type": "code",
   "execution_count": null,
   "metadata": {},
   "outputs": [],
   "source": [
    "print(df[df.site_name == 'Mores Creek Summit'][['end_datetime', 'lon', 'lat', 'dTime', 'dSWE']].set_index('end_datetime').sort_index().drop_duplicates())\n",
    "\n",
    "len(df[df.site_name == 'Mores Creek Summit'][['end_datetime', 'lon', 'lat', 'dTime']].set_index('end_datetime').sort_index().drop_duplicates())"
   ]
  }
 ],
 "metadata": {
  "kernelspec": {
   "display_name": "proj",
   "language": "python",
   "name": "python3"
  },
  "language_info": {
   "codemirror_mode": {
    "name": "ipython",
    "version": 3
   },
   "file_extension": ".py",
   "mimetype": "text/x-python",
   "name": "python",
   "nbconvert_exporter": "python",
   "pygments_lexer": "ipython3",
   "version": "3.9.16"
  },
  "orig_nbformat": 4,
  "vscode": {
   "interpreter": {
    "hash": "be18628f3b6aaaf0d9a50c1a0a68c0122e22b01f7b4495836f3dc0caac12767e"
   }
  }
 },
 "nbformat": 4,
 "nbformat_minor": 2
}
