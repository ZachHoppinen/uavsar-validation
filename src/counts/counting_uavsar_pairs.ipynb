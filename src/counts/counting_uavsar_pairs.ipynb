{
 "cells": [
  {
   "cell_type": "code",
   "execution_count": 2,
   "metadata": {},
   "outputs": [],
   "source": [
    "from pathlib import Path\n",
    "import pandas as pd\n",
    "import xarray as xr"
   ]
  },
  {
   "cell_type": "code",
   "execution_count": 40,
   "metadata": {},
   "outputs": [],
   "source": [
    "ncs_dir = Path('/bsuhome/zacharykeskinen/scratch/data/uavsar/ncs')\n",
    "uavsar_flight_table = pd.DataFrame(columns = ['Flight 1 Date', 'Flight 2 Date', 'Headings', 'Unwrapped?'])\n",
    "for i, f in enumerate(ncs_dir.glob('*.sd.nc')):\n",
    "    heading, d1, d2 = f.stem.strip('.sd').split('_')\n",
    "    ds = xr.open_dataset(f)\n",
    "\n",
    "    date_check = uavsar_flight_table['Flight 1 Date'].str.contains(d1)\n",
    "\n",
    "    # if date_check.sum() == 0:\n",
    "    uavsar_flight_table.loc[i, 'Headings'] = heading\n",
    "    uavsar_flight_table.loc[i, 'Flight 1 Date'] = d1\n",
    "    uavsar_flight_table.loc[i, 'Flight 2 Date'] = d2\n",
    "    if 'unw' in ds.data_vars:\n",
    "        uavsar_flight_table.loc[i, 'Unwrapped?'] = 'Y'\n",
    "    else:\n",
    "        uavsar_flight_table.loc[i, 'Unwrapped?'] = 'N'\n",
    "\n",
    "    # else:\n",
    "        # uavsar_flight_table.loc[date_check[date_check == True].index[0], 'Headings'] = '232, 052'\n",
    "\n",
    "uavsar_flight_table = uavsar_flight_table.set_index('Flight 1 Date')"
   ]
  },
  {
   "cell_type": "code",
   "execution_count": 41,
   "metadata": {},
   "outputs": [],
   "source": [
    "uavsar_flight_table.to_csv('/bsuhome/zacharykeskinen/uavsar-validation/results/methods/uavsar_counts.csv')"
   ]
  }
 ],
 "metadata": {
  "kernelspec": {
   "display_name": "proj",
   "language": "python",
   "name": "python3"
  },
  "language_info": {
   "codemirror_mode": {
    "name": "ipython",
    "version": 3
   },
   "file_extension": ".py",
   "mimetype": "text/x-python",
   "name": "python",
   "nbconvert_exporter": "python",
   "pygments_lexer": "ipython3",
   "version": "3.9.16"
  },
  "orig_nbformat": 4
 },
 "nbformat": 4,
 "nbformat_minor": 2
}
