{
 "cells": [
  {
   "cell_type": "code",
   "execution_count": 2,
   "metadata": {},
   "outputs": [],
   "source": [
    "import numpy as np\n",
    "import pandas as pd\n",
    "import geopandas as gpd\n",
    "import xarray as xr\n",
    "import matplotlib.pyplot as plt\n",
    "from stats import get_stats\n",
    "from pathlib import Path\n",
    "interval_dir = Path('/bsuhome/zacharykeskinen/scratch/data/uavsar/interval')\n",
    "ncs_dir = Path('/bsuscratch/zacharykeskinen/data/uavsar/ncs/')\n",
    "\n",
    "class uavsar_fp:\n",
    "\n",
    "    def __init__(self, fp, f1, f2):\n",
    "        self.fp = fp\n",
    "        self.f1 = f1\n",
    "        self.f2 = f2\n",
    "\n",
    "    def check_dates(self, t1, t2):\n",
    "        if (self.f1 < t1 + pd.Timedelta('2 days')) & (self.f1 > t1 - pd.Timedelta('2 days')):\n",
    "            if (self.f2 < t2 + pd.Timedelta('2 days')) & (self.f2 > t2 - pd.Timedelta('2 days')):\n",
    "                return self\n",
    "\n",
    "sd_fps = list(ncs_dir.glob('232*.sd.nc'))\n",
    "sd_fps = [uavsar_fp(fp, pd.to_datetime(fp.name.split('_')[1]), pd.to_datetime(fp.stem.split('_')[2].strip('.sd'))) for fp in sd_fps]"
   ]
  },
  {
   "cell_type": "code",
   "execution_count": 12,
   "metadata": {},
   "outputs": [],
   "source": [
    "res = []\n",
    "for fp in interval_dir.glob('*.csv'):\n",
    "    if '20' in fp.name:\n",
    "        df = pd.read_csv(fp, parse_dates=['Date/Local Standard Time'])\n",
    "        df['date_t2'] = df['Date/Local Standard Time']\n",
    "    elif '21' in fp.name:\n",
    "        df = pd.read_csv(fp, parse_dates=['Date'])\n",
    "        df['date_t2'] = df['Date']\n",
    "        \n",
    "    gdf = gpd.GeoDataFrame(df, geometry = gpd.points_from_xy(df.Longitude, df.Latitude))\n",
    "    gdf = gdf.loc[gdf.Location == 'Boise River Basin']\n",
    "\n",
    "    for id, df in gdf.groupby('PitID'):\n",
    "        df['date_t1'] = df.shift(1)['date_t2']\n",
    "        for i, r in df.iterrows():\n",
    "            sub_set = [fp.check_dates(r.date_t1, r.date_t2) for fp in sd_fps]\n",
    "            sub_set = list(filter(lambda item: item is not None, sub_set))\n",
    "            if len(sub_set) == 0:\n",
    "                continue\n",
    "            assert len(sub_set) == 1\n",
    "\n",
    "            gdf.loc[i, 'int_sd_delta'] = np.random.random()\n",
    "            gdf.loc[i, 'unw_sd_delta'] = np.random.random()\n",
    "            ds = xr.load_dataset(sub_set[0].fp)\n",
    "            tol = 0.00090009\n",
    "            gdf.loc[i, 'int_sd_delta'] = ds['sd_delta_int'].sel(x = slice(r.geometry.x - tol, r.geometry.x + tol), y = slice(r.geometry.y + tol, r.geometry.y - tol)).mean()\n",
    "            if 'sd_delta_unw' in ds.data_vars:\n",
    "                gdf.loc[i, 'unw_sd_delta'] = ds['sd_delta_unw'].sel(x = slice(r.geometry.x - tol, r.geometry.x + tol), y = slice(r.geometry.y + tol, r.geometry.y - tol)).mean()\n",
    "    res.append(gdf)\n",
    "res = pd.concat(res)\n",
    "res.to_csv('/bsuhome/zacharykeskinen/uavsar-validation/data/interval/interval_sd.csv')"
   ]
  }
 ],
 "metadata": {
  "kernelspec": {
   "display_name": "proj",
   "language": "python",
   "name": "python3"
  },
  "language_info": {
   "codemirror_mode": {
    "name": "ipython",
    "version": 3
   },
   "file_extension": ".py",
   "mimetype": "text/x-python",
   "name": "python",
   "nbconvert_exporter": "python",
   "pygments_lexer": "ipython3",
   "version": "3.9.16"
  },
  "orig_nbformat": 4
 },
 "nbformat": 4,
 "nbformat_minor": 2
}
