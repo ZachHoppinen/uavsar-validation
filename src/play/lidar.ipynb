{
 "cells": [
  {
   "attachments": {},
   "cell_type": "markdown",
   "metadata": {},
   "source": [
    "analysis"
   ]
  },
  {
   "cell_type": "code",
   "execution_count": 39,
   "metadata": {},
   "outputs": [],
   "source": [
    "from uavsar_pytools.snow_depth_inversion import depth_from_phase, phase_from_depth"
   ]
  },
  {
   "cell_type": "code",
   "execution_count": 2,
   "metadata": {},
   "outputs": [],
   "source": [
    "import xarray as xr\n",
    "import numpy as np\n",
    "import pandas as pd\n",
    "import rioxarray as rxa\n",
    "import matplotlib as mpl\n",
    "import matplotlib.pyplot as plt\n",
    "from pathlib import Path\n",
    "import matplotlib as mpl\n",
    "import pandas as pd\n",
    "import os\n",
    "\n",
    "def get_site_dSWE(site_name, d1, d2, df):\n",
    "    site = df[df.site_name == site_name]\n",
    "    if not d1.tz:\n",
    "        d1 = d1.tz_localize('UTC')\n",
    "    if not d2.tz:\n",
    "        d2 = d2.tz_localize('UTC')\n",
    "    site_pair = site.loc[d1:d2, 'SWE']\n",
    "    if len(site_pair) < 2:\n",
    "        return np.nan\n",
    "    dSWE = site_pair.iloc[-1] - site_pair.iloc[0]\n",
    "    return dSWE\n",
    "\n",
    "def add_delta_t(ds):\n",
    "    t_deltas = [pd.Timedelta(t.values) for t in ds.time.diff(dim = 'time')]\n",
    "    t_deltas.append(np.nan)\n",
    "    ds = ds.assign_coords({'t_delta': ('time', t_deltas)})\n",
    "\n",
    "    return ds\n",
    "\n",
    "def add_dSWEs_dTime(ds, df):\n",
    "\n",
    "    ds = add_delta_t(ds)\n",
    "\n",
    "    dSWEs = []\n",
    "    for sub_t in ds.time:\n",
    "        start = pd.to_datetime(ds['time'].sel(time = sub_t).values)\n",
    "        end = pd.to_datetime(start + ds['t_delta'].sel(time = sub_t).values)\n",
    "        dSWE = get_site_dSWE(ds.attrs['site'].lower(), start, end, df)\n",
    "        dSWEs.append(dSWE)\n",
    "    \n",
    "    ds = ds.assign_coords({'dSWE': ('time', dSWEs)})\n",
    "\n",
    "    return ds"
   ]
  },
  {
   "cell_type": "code",
   "execution_count": 38,
   "metadata": {},
   "outputs": [
    {
     "name": "stdout",
     "output_type": "stream",
     "text": [
      "/bsuhome/zacharykeskinen/scratch/data/uavsar/ncs/lidar/Banner.all.nc\n",
      "2020-02-18T00:00:00.000000000\n",
      "2021-03-15T00:00:00.000000000\n",
      "/bsuhome/zacharykeskinen/scratch/data/uavsar/ncs/lidar/Dry_Creek.all.nc\n",
      "2020-02-19T00:00:00.000000000\n",
      "/bsuhome/zacharykeskinen/scratch/data/uavsar/ncs/lidar/Mores.all.nc\n",
      "2020-02-09T00:00:00.000000000\n",
      "2021-03-15T00:00:00.000000000\n"
     ]
    },
    {
     "data": {
      "text/plain": [
       "<Figure size 1440x720 with 0 Axes>"
      ]
     },
     "metadata": {},
     "output_type": "display_data"
    },
    {
     "data": {
      "text/plain": [
       "<Figure size 1440x720 with 0 Axes>"
      ]
     },
     "metadata": {},
     "output_type": "display_data"
    },
    {
     "data": {
      "text/plain": [
       "<Figure size 1440x720 with 0 Axes>"
      ]
     },
     "metadata": {},
     "output_type": "display_data"
    },
    {
     "data": {
      "text/plain": [
       "<Figure size 1440x720 with 0 Axes>"
      ]
     },
     "metadata": {},
     "output_type": "display_data"
    },
    {
     "data": {
      "text/plain": [
       "<Figure size 1440x720 with 0 Axes>"
      ]
     },
     "metadata": {},
     "output_type": "display_data"
    },
    {
     "data": {
      "text/plain": [
       "<Figure size 1440x720 with 0 Axes>"
      ]
     },
     "metadata": {},
     "output_type": "display_data"
    }
   ],
   "source": [
    "df = pd.read_parquet('/bsuhome/zacharykeskinen/uavsar-validation/data/insitu/snotel.parq')\n",
    "df = df.reset_index(level= 1)\n",
    "df = df.sort_index()\n",
    "# loop through each flight pair and calculate rmse, r2, plot\n",
    "lidar = None\n",
    "\n",
    "lidar_dir = Path('/bsuhome/zacharykeskinen/scratch/data/uavsar/ncs/lidar')\n",
    "\n",
    "for lidar_fp in lidar_dir.glob('*.all.nc'):\n",
    "\n",
    "    print(lidar_fp)\n",
    "    lidar = xr.open_dataset(lidar_fp)\n",
    "\n",
    "    if isinstance(lidar.attrs['lidar_times'] , str):\n",
    "        lidar.attrs['lidar_times'] = [lidar.attrs['lidar_times']]\n",
    "\n",
    "    for t in lidar.attrs['lidar_times']:\n",
    "        print(t)\n",
    "\n",
    "        t = pd.to_datetime(t)\n",
    "        ds = lidar.sel(time = slice(t - pd.Timedelta('180 days'), t))\n",
    "        \n",
    "        lidar_img = ds['lidar-sd'].sel(time = t)\n",
    "\n",
    "        if len(ds.time) < 2:\n",
    "            continue\n",
    "\n",
    "        ds = ds.isel(time = slice(0, len(ds.time)-1))\n",
    "        ds = add_dSWEs_dTime(ds, df)\n",
    "        ds = ds.sel(time = ds.dSWE > 0) # more than 0.1 inches of swe\n",
    "        # ds = ds.sel(time = ds.t_delta < pd.Timedelta('10 days'))\n",
    "\n",
    "        if len(ds.time) < 2:\n",
    "            continue\n",
    "\n",
    "        os.makedirs(f\"/bsuhome/zacharykeskinen/uavsar-validation/figures/lidar/summed/{ds.attrs['site']}\", exist_ok = True)\n",
    "\n",
    "        for img_type in ['int', 'unw']:\n",
    "\n",
    "            out_fp = f\"/bsuhome/zacharykeskinen/uavsar-validation/figures/lidar/summed/{ds.attrs['site']}/{img_type}-{ds.attrs['site']}-{(t).strftime('%Y-%m-%d')}.png\"\n",
    "            \n",
    "            # if Path(out_fp).exists():\n",
    "            #     continue\n",
    "\n",
    "            fig, axes = plt.subplots(1, 3, figsize = (20, 10))\n",
    "\n",
    "            sub232 = ds[f'dSD_232_{img_type}'].sel(band = 'VV').rolling(x = 5).mean().rolling(y = 5).mean()\n",
    "            \n",
    "            sub = sub232.sum(dim = 'time')\n",
    "\n",
    "            inc = ds['232_inc'].isel(time = 0)\n",
    "\n",
    "            lidar_img.plot(vmin = 0, vmax = 3, ax = axes[0])\n",
    "\n",
    "            vmin, vmax = sub.quantile([0.2, 0.85]).values\n",
    "            sub = sub\n",
    "            sub.where(~lidar_img.isnull()).plot(vmin = vmin, vmax = vmax, ax = axes[1], cmap = 'viridis')\n",
    "            # cor.where(~lidar_img.isnull()).plot(vmin = 0, vmax = 1, ax = axes[2])\n",
    "\n",
    "            ax = axes[2]\n",
    "\n",
    "            xs = lidar_img.values.ravel()\n",
    "            ys = sub.values.ravel()\n",
    "\n",
    "            xs_tmp = xs[(~np.isnan(xs)) & (~np.isnan(ys)) & (ys != 0)]\n",
    "            ys = ys[(~np.isnan(xs)) & (~np.isnan(ys)) & (ys != 0)]\n",
    "            xs = xs_tmp\n",
    "\n",
    "            if len(ys) == 0:\n",
    "                plt.clf()\n",
    "                continue\n",
    "\n",
    "            range = [[-.2, 5.5], [-.2, np.max(ys) + 0.3]]\n",
    "            ax.hist2d(xs_tmp, ys, bins = 100, norm=mpl.colors.LogNorm(), cmap=mpl.cm.inferno, range = range)\n",
    "\n",
    "            from scipy.stats import pearsonr\n",
    "            r, p = pearsonr(xs, ys)\n",
    "            ax.text(.01, .99, f'r: {r:.2}\\nn = {len(ys):.2e}', ha = 'left', va = 'top', transform = ax.transAxes)\n",
    "\n",
    "            plt.savefig(out_fp)\n",
    "            plt.clf()"
   ]
  },
  {
   "cell_type": "code",
   "execution_count": null,
   "metadata": {},
   "outputs": [],
   "source": []
  }
 ],
 "metadata": {
  "kernelspec": {
   "display_name": "proj",
   "language": "python",
   "name": "python3"
  },
  "language_info": {
   "codemirror_mode": {
    "name": "ipython",
    "version": 3
   },
   "file_extension": ".py",
   "mimetype": "text/x-python",
   "name": "python",
   "nbconvert_exporter": "python",
   "pygments_lexer": "ipython3",
   "version": "3.9.16"
  },
  "orig_nbformat": 4,
  "vscode": {
   "interpreter": {
    "hash": "be18628f3b6aaaf0d9a50c1a0a68c0122e22b01f7b4495836f3dc0caac12767e"
   }
  }
 },
 "nbformat": 4,
 "nbformat_minor": 2
}
