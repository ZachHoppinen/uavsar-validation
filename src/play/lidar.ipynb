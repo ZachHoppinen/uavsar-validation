{
 "cells": [
  {
   "attachments": {},
   "cell_type": "markdown",
   "metadata": {},
   "source": [
    "# plot each lidar snow, summed sd, r2"
   ]
  },
  {
   "cell_type": "code",
   "execution_count": 40,
   "metadata": {},
   "outputs": [
    {
     "name": "stdout",
     "output_type": "stream",
     "text": [
      "/bsuhome/zacharykeskinen/scratch/data/uavsar/ncs/lidar/Mores.sd.nc\n",
      "/bsuhome/zacharykeskinen/scratch/data/uavsar/ncs/lidar/Banner.sd.nc\n",
      "/bsuhome/zacharykeskinen/scratch/data/uavsar/ncs/lidar/Dry_Creek.sd.nc\n"
     ]
    }
   ],
   "source": [
    "import xarray as xr\n",
    "import numpy as np\n",
    "import pandas as pd\n",
    "import rioxarray as rxa\n",
    "import matplotlib as mpl\n",
    "import matplotlib.pyplot as plt\n",
    "from pathlib import Path\n",
    "import matplotlib as mpl\n",
    "import pandas as pd\n",
    "\n",
    "from scipy.ndimage import gaussian_filter\n",
    "\n",
    "from stats import clean_xs_ys\n",
    "\n",
    "# loop through each flight pair and calculate rmse, r2, plot\n",
    "lidar = None\n",
    "\n",
    "# check if we are on borah or local\n",
    "import socket\n",
    "hn = socket.gethostname()\n",
    "lidar_dir = Path('/bsuhome/zacharykeskinen/scratch/data/uavsar/ncs/lidar')\n",
    "if hn == 'Zachs-MacBook-Pro.local':\n",
    "    lidar_dir = Path('/Users/zachkeskinen/Desktop/')\n",
    "    \n",
    "for img_type in ['int','unw']:\n",
    "    print(img_type)\n",
    "    # for lidar filepath\n",
    "    for lidar_fp in lidar_dir.glob('*.sd.nc'):\n",
    "        print(lidar_fp)\n",
    "        lidar = xr.open_dataset(lidar_fp)\n",
    "\n",
    "        # single times are strings not lists\n",
    "        if isinstance(lidar.attrs['lidar_times'] , str):\n",
    "            lidar.attrs['lidar_times'] = [lidar.attrs['lidar_times']]\n",
    "\n",
    "        for t in lidar.attrs['lidar_times']:\n",
    "\n",
    "            t = pd.to_datetime(t)\n",
    "            # slice images that occured that year\n",
    "            ds = lidar.sel(time = slice(t - pd.Timedelta('180 days'), t + pd.Timedelta('90 days')))\n",
    "\n",
    "            increasing = ds.where(ds.snotel_dSWE > 0)\n",
    "            # increasing = increasing.where(increasing['232-cor'] > 0.4)\n",
    "            \n",
    "            cum_sd232 = increasing[f'232-sd_delta_{img_type}'].sum(dim = 'time', skipna = True).where(~ds['lidar-sd'].sel(time = t).isnull())\n",
    "            cum_sd232 = cum_sd232.where(cum_sd232 != 0)\n",
    "            cum_sd052 = increasing[f'052-sd_delta_{img_type}'].sum(dim = 'time', skipna = True).where(~ds['lidar-sd'].sel(time = t).isnull())\n",
    "\n",
    "            vmax = cum_sd232.sel(band = 'VV').quantile(0.9)\n",
    "\n",
    "            if cum_sd052.sum() > 0:\n",
    "                fig, axes = plt.subplots(1, 4, figsize = (20,10))\n",
    "                data232 = cum_sd232.sel(band = 'VV')\n",
    "                data232.data = gaussian_filter(data232, 2)\n",
    "                data232.plot(vmin = 0, vmax = vmax, ax = axes[1], cmap = 'viridis')\n",
    "                data = cum_sd052.sel(band = 'VV')\n",
    "                data.data = gaussian_filter(data, 2)\n",
    "                data.plot(vmin = 0, vmax = vmax, ax = axes[2], cmap = 'viridis')\n",
    "                ax = axes[3]\n",
    "            else:\n",
    "                fig, axes = plt.subplots(1, 3, figsize = (20,10))\n",
    "                data232 = cum_sd232.sel(band = 'VV')\n",
    "                data232.data = gaussian_filter(data232, 2)\n",
    "                data232.plot(vmin = 0, vmax = vmax, ax = axes[1], cmap = 'viridis')\n",
    "                ax = axes[2]\n",
    "\n",
    "            ds['lidar-sd'].sel(time = t).plot(vmin = 0, vmax = 3, ax = axes[0])\n",
    "\n",
    "            xs = lidar['lidar-sd'].sel(time = t).values.ravel()\n",
    "            ys = data232.values.ravel()\n",
    "\n",
    "            xs, ys = clean_xs_ys(xs, ys, clean_zeros = True)\n",
    "\n",
    "            range = [[-.2, 5.5], [-.2, np.max(ys) + 0.3]]\n",
    "            ax.hist2d(xs, ys, bins = 100, norm=mpl.colors.LogNorm(), cmap=mpl.cm.inferno, range = range)\n",
    "\n",
    "            from scipy.stats import pearsonr\n",
    "            r, p = pearsonr(xs, ys)\n",
    "            ax.text(.01, .99, f'r: {r:.2}\\nn = {len(ys):.2e}', ha = 'left', va = 'top', transform = ax.transAxes)\n",
    "            plt.tight_layout()\n",
    "            # plt.show()\n",
    "            plt.savefig(f\"/bsuhome/zacharykeskinen/uavsar-validation/figures/lidar/new/{img_type}_{lidar.attrs['site']}_{t.strftime('%Y-%m-%d')}.png\")\n",
    "            plt.close()"
   ]
  },
  {
   "cell_type": "code",
   "execution_count": 1,
   "metadata": {},
   "outputs": [],
   "source": [
    "def get_r(ds, lidar):\n",
    "    xs = lidar.values.ravel()\n",
    "    ys = ds.values.ravel()\n",
    "\n",
    "    xs, ys = clean_xs_ys(xs, ys, clean_zeros = True)\n",
    "    r, p = pearsonr(xs, ys)\n",
    "    return r"
   ]
  }
 ],
 "metadata": {
  "kernelspec": {
   "display_name": "proj",
   "language": "python",
   "name": "python3"
  },
  "language_info": {
   "codemirror_mode": {
    "name": "ipython",
    "version": 3
   },
   "file_extension": ".py",
   "mimetype": "text/x-python",
   "name": "python",
   "nbconvert_exporter": "python",
   "pygments_lexer": "ipython3",
   "version": "3.9.16"
  },
  "orig_nbformat": 4,
  "vscode": {
   "interpreter": {
    "hash": "be18628f3b6aaaf0d9a50c1a0a68c0122e22b01f7b4495836f3dc0caac12767e"
   }
  }
 },
 "nbformat": 4,
 "nbformat_minor": 2
}
