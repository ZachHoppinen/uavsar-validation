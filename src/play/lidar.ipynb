{
 "cells": [
  {
   "attachments": {},
   "cell_type": "markdown",
   "metadata": {},
   "source": [
    "# plot each lidar snow, summed sd, r2"
   ]
  },
  {
   "cell_type": "code",
   "execution_count": null,
   "metadata": {},
   "outputs": [
    {
     "name": "stdout",
     "output_type": "stream",
     "text": [
      "/bsuhome/zacharykeskinen/scratch/data/uavsar/ncs/lidar/Mores.sd.nc\n"
     ]
    },
    {
     "ename": "ValueError",
     "evalue": "replacement data must match the Variable's shape. replacement data has shape (2735, 3504); Variable has shape (1383, 1796)",
     "output_type": "error",
     "traceback": [
      "\u001b[0;31m---------------------------------------------------------------------------\u001b[0m",
      "\u001b[0;31mValueError\u001b[0m                                Traceback (most recent call last)",
      "\u001b[1;32m/bsuhome/zacharykeskinen/uavsar-validation/src/play/lidar.ipynb Cell 2\u001b[0m in \u001b[0;36m<cell line: 18>\u001b[0;34m()\u001b[0m\n\u001b[1;32m     <a href='vscode-notebook-cell://ssh-remote%2Bborah/bsuhome/zacharykeskinen/uavsar-validation/src/play/lidar.ipynb#W1sdnNjb2RlLXJlbW90ZQ%3D%3D?line=44'>45</a>\u001b[0m fig, axes \u001b[39m=\u001b[39m plt\u001b[39m.\u001b[39msubplots(\u001b[39m1\u001b[39m, \u001b[39m3\u001b[39m, figsize \u001b[39m=\u001b[39m (\u001b[39m20\u001b[39m,\u001b[39m10\u001b[39m))\n\u001b[1;32m     <a href='vscode-notebook-cell://ssh-remote%2Bborah/bsuhome/zacharykeskinen/uavsar-validation/src/play/lidar.ipynb#W1sdnNjb2RlLXJlbW90ZQ%3D%3D?line=45'>46</a>\u001b[0m data232 \u001b[39m=\u001b[39m cum_sd232\u001b[39m.\u001b[39msel(band \u001b[39m=\u001b[39m \u001b[39m'\u001b[39m\u001b[39mVV\u001b[39m\u001b[39m'\u001b[39m)\n\u001b[0;32m---> <a href='vscode-notebook-cell://ssh-remote%2Bborah/bsuhome/zacharykeskinen/uavsar-validation/src/play/lidar.ipynb#W1sdnNjb2RlLXJlbW90ZQ%3D%3D?line=46'>47</a>\u001b[0m data232\u001b[39m.\u001b[39mdata \u001b[39m=\u001b[39m gaussian_filter(data, \u001b[39m3\u001b[39m)\n\u001b[1;32m     <a href='vscode-notebook-cell://ssh-remote%2Bborah/bsuhome/zacharykeskinen/uavsar-validation/src/play/lidar.ipynb#W1sdnNjb2RlLXJlbW90ZQ%3D%3D?line=47'>48</a>\u001b[0m data232\u001b[39m.\u001b[39mplot(vmin \u001b[39m=\u001b[39m \u001b[39m0\u001b[39m, vmax \u001b[39m=\u001b[39m vmax, ax \u001b[39m=\u001b[39m axes[\u001b[39m1\u001b[39m], cmap \u001b[39m=\u001b[39m \u001b[39m'\u001b[39m\u001b[39mcividis\u001b[39m\u001b[39m'\u001b[39m)\n\u001b[1;32m     <a href='vscode-notebook-cell://ssh-remote%2Bborah/bsuhome/zacharykeskinen/uavsar-validation/src/play/lidar.ipynb#W1sdnNjb2RlLXJlbW90ZQ%3D%3D?line=48'>49</a>\u001b[0m ax \u001b[39m=\u001b[39m axes[\u001b[39m2\u001b[39m]\n",
      "File \u001b[0;32m~/miniconda3/envs/proj/lib/python3.9/site-packages/xarray/core/common.py:267\u001b[0m, in \u001b[0;36mAttrAccessMixin.__setattr__\u001b[0;34m(self, name, value)\u001b[0m\n\u001b[1;32m    262\u001b[0m \u001b[39m\"\"\"Objects with ``__slots__`` raise AttributeError if you try setting an\u001b[39;00m\n\u001b[1;32m    263\u001b[0m \u001b[39mundeclared attribute. This is desirable, but the error message could use some\u001b[39;00m\n\u001b[1;32m    264\u001b[0m \u001b[39mimprovement.\u001b[39;00m\n\u001b[1;32m    265\u001b[0m \u001b[39m\"\"\"\u001b[39;00m\n\u001b[1;32m    266\u001b[0m \u001b[39mtry\u001b[39;00m:\n\u001b[0;32m--> 267\u001b[0m     \u001b[39mobject\u001b[39;49m\u001b[39m.\u001b[39;49m\u001b[39m__setattr__\u001b[39;49m(\u001b[39mself\u001b[39;49m, name, value)\n\u001b[1;32m    268\u001b[0m \u001b[39mexcept\u001b[39;00m \u001b[39mAttributeError\u001b[39;00m \u001b[39mas\u001b[39;00m e:\n\u001b[1;32m    269\u001b[0m     \u001b[39m# Don't accidentally shadow custom AttributeErrors, e.g.\u001b[39;00m\n\u001b[1;32m    270\u001b[0m     \u001b[39m# DataArray.dims.setter\u001b[39;00m\n\u001b[1;32m    271\u001b[0m     \u001b[39mif\u001b[39;00m \u001b[39mstr\u001b[39m(e) \u001b[39m!=\u001b[39m \u001b[39m\"\u001b[39m\u001b[39m{!r}\u001b[39;00m\u001b[39m object has no attribute \u001b[39m\u001b[39m{!r}\u001b[39;00m\u001b[39m\"\u001b[39m\u001b[39m.\u001b[39mformat(\n\u001b[1;32m    272\u001b[0m         \u001b[39mtype\u001b[39m(\u001b[39mself\u001b[39m)\u001b[39m.\u001b[39m\u001b[39m__name__\u001b[39m, name\n\u001b[1;32m    273\u001b[0m     ):\n",
      "File \u001b[0;32m~/miniconda3/envs/proj/lib/python3.9/site-packages/xarray/core/dataarray.py:631\u001b[0m, in \u001b[0;36mDataArray.data\u001b[0;34m(self, value)\u001b[0m\n\u001b[1;32m    629\u001b[0m \u001b[39m@data\u001b[39m\u001b[39m.\u001b[39msetter\n\u001b[1;32m    630\u001b[0m \u001b[39mdef\u001b[39;00m \u001b[39mdata\u001b[39m(\u001b[39mself\u001b[39m, value: Any) \u001b[39m-\u001b[39m\u001b[39m>\u001b[39m \u001b[39mNone\u001b[39;00m:\n\u001b[0;32m--> 631\u001b[0m     \u001b[39mself\u001b[39m\u001b[39m.\u001b[39mvariable\u001b[39m.\u001b[39mdata \u001b[39m=\u001b[39m value\n",
      "File \u001b[0;32m~/miniconda3/envs/proj/lib/python3.9/site-packages/xarray/core/variable.py:345\u001b[0m, in \u001b[0;36mVariable.data\u001b[0;34m(self, data)\u001b[0m\n\u001b[1;32m    343\u001b[0m data \u001b[39m=\u001b[39m as_compatible_data(data)\n\u001b[1;32m    344\u001b[0m \u001b[39mif\u001b[39;00m data\u001b[39m.\u001b[39mshape \u001b[39m!=\u001b[39m \u001b[39mself\u001b[39m\u001b[39m.\u001b[39mshape:\n\u001b[0;32m--> 345\u001b[0m     \u001b[39mraise\u001b[39;00m \u001b[39mValueError\u001b[39;00m(\n\u001b[1;32m    346\u001b[0m         \u001b[39mf\u001b[39m\u001b[39m\"\u001b[39m\u001b[39mreplacement data must match the Variable\u001b[39m\u001b[39m'\u001b[39m\u001b[39ms shape. \u001b[39m\u001b[39m\"\u001b[39m\n\u001b[1;32m    347\u001b[0m         \u001b[39mf\u001b[39m\u001b[39m\"\u001b[39m\u001b[39mreplacement data has shape \u001b[39m\u001b[39m{\u001b[39;00mdata\u001b[39m.\u001b[39mshape\u001b[39m}\u001b[39;00m\u001b[39m; Variable has shape \u001b[39m\u001b[39m{\u001b[39;00m\u001b[39mself\u001b[39m\u001b[39m.\u001b[39mshape\u001b[39m}\u001b[39;00m\u001b[39m\"\u001b[39m\n\u001b[1;32m    348\u001b[0m     )\n\u001b[1;32m    349\u001b[0m \u001b[39mself\u001b[39m\u001b[39m.\u001b[39m_data \u001b[39m=\u001b[39m data\n",
      "\u001b[0;31mValueError\u001b[0m: replacement data must match the Variable's shape. replacement data has shape (2735, 3504); Variable has shape (1383, 1796)"
     ]
    },
    {
     "data": {
      "image/png": "[encoded data removed]",
      "text/plain": [
       "<Figure size 1440x720 with 3 Axes>"
      ]
     },
     "metadata": {
      "needs_background": "light"
     },
     "output_type": "display_data"
    }
   ],
   "source": [
    "import xarray as xr\n",
    "import numpy as np\n",
    "import pandas as pd\n",
    "import rioxarray as rxa\n",
    "import matplotlib as mpl\n",
    "import matplotlib.pyplot as plt\n",
    "from pathlib import Path\n",
    "import matplotlib as mpl\n",
    "import pandas as pd\n",
    "\n",
    "from scipy.ndimage import gaussian_filter\n",
    "\n",
    "# loop through each flight pair and calculate rmse, r2, plot\n",
    "lidar = None\n",
    "\n",
    "# check if we are on borah or local\n",
    "import socket\n",
    "hn = socket.gethostname()\n",
    "lidar_dir = Path('/bsuhome/zacharykeskinen/scratch/data/uavsar/ncs/lidar')\n",
    "if hn == 'Zachs-MacBook-Pro.local':\n",
    "    lidar_dir = Path('/Users/zachkeskinen/Desktop/')\n",
    "\n",
    "# for lidar filepath\n",
    "for lidar_fp in lidar_dir.glob('*.sd.nc'):\n",
    "    print(lidar_fp)\n",
    "    lidar = xr.open_dataset(lidar_fp)\n",
    "\n",
    "    # single times are strings not lists\n",
    "    if isinstance(lidar.attrs['lidar_times'] , str):\n",
    "        lidar.attrs['lidar_times'] = [lidar.attrs['lidar_times']]\n",
    "\n",
    "    for t in lidar.attrs['lidar_times']:\n",
    "\n",
    "        t = pd.to_datetime(t)\n",
    "        # slice images that occured that year\n",
    "        ds = lidar.sel(time = slice(t - pd.Timedelta('180 days'), t))\n",
    "\n",
    "        cum_sd232 = ds['232-sd_delta_int'].sum(dim = 'time').where(~ds['lidar-sd'].sel(time = t).isnull())\n",
    "        cum_sd052 = ds['052-sd_delta_int'].sum(dim = 'time').where(~ds['lidar-sd'].sel(time = t).isnull())\n",
    "\n",
    "        vmax = cum_sd232.sel(band = 'VV').quantile(0.9)\n",
    "\n",
    "        if cum_sd052.sum() > 0:\n",
    "            fig, axes = plt.subplots(1, 4, figsize = (20,10))\n",
    "            data232 = cum_sd232.sel(band = 'VV')\n",
    "            data232.data = gaussian_filter(data232, 3)\n",
    "            data232.plot(vmin = 0, vmax = vmax, ax = axes[1], cmap = 'cividis')\n",
    "            data = cum_sd052.sel(band = 'VV')\n",
    "            data.data = gaussian_filter(data, 3)\n",
    "            data.plot(vmin = 0, vmax = vmax, ax = axes[2], cmap = 'cividis')\n",
    "            ax = axes[3]\n",
    "        else:\n",
    "            fig, axes = plt.subplots(1, 3, figsize = (20,10))\n",
    "            data232 = cum_sd232.sel(band = 'VV')\n",
    "            data232.data = gaussian_filter(data232, 3)\n",
    "            data232.plot(vmin = 0, vmax = vmax, ax = axes[1], cmap = 'cividis')\n",
    "            ax = axes[2]\n",
    "\n",
    "        ds['lidar-sd'].sel(time = t).plot(vmin = 0, vmax = 3, ax = axes[0])\n",
    "\n",
    "        xs = lidar['lidar-sd'].sel(time = t).values.ravel()\n",
    "        ys = data232.values.ravel()\n",
    "\n",
    "        xs_tmp = xs[(~np.isnan(xs)) & (~np.isnan(ys)) & (ys != 0)]\n",
    "        ys = ys[(~np.isnan(xs)) & (~np.isnan(ys)) & (ys != 0)]\n",
    "        xs = xs_tmp\n",
    "\n",
    "        range = [[-.2, 5.5], [-.2, np.max(ys) + 0.3]]\n",
    "        ax.hist2d(xs_tmp, ys, bins = 100, norm=mpl.colors.LogNorm(), cmap=mpl.cm.inferno, range = range)\n",
    "\n",
    "        from scipy.stats import pearsonr\n",
    "        r, p = pearsonr(xs, ys)\n",
    "        ax.text(.01, .99, f'r: {r:.2}\\nn = {len(ys):.2e}', ha = 'left', va = 'top', transform = ax.transAxes)\n",
    "        plt.tight_layout()\n",
    "        plt.show()\n",
    "        # plt.savefig(f\"/bsuhome/zacharykeskinen/uavsar-validation/figures/lidar/all/unw_{lidar.attrs['site']}_{t.strftime('%Y-%m-%d')}.png\")"
   ]
  },
  {
   "cell_type": "code",
   "execution_count": null,
   "metadata": {},
   "outputs": [],
   "source": [
    "import numpy as np\n",
    "import pandas as pd\n",
    "import xarray as xr\n",
    "import rioxarray as rxa\n",
    "from tqdm import tqdm\n",
    "\n",
    "from pathlib import Path\n",
    "from stats import get_stats, clean_xs_ys\n",
    "\n",
    "df = pd.read_csv('/Users/zachkeskinen/Documents/uavsar-validation/results/lidar-rs/inc.csv', index_col=['stat', 'loc','date'])\n",
    "\n",
    "df.loc[('r')].T.rolling(3).mean().plot(figsize = (12,8))"
   ]
  }
 ],
 "metadata": {
  "kernelspec": {
   "display_name": "proj",
   "language": "python",
   "name": "python3"
  },
  "language_info": {
   "codemirror_mode": {
    "name": "ipython",
    "version": 3
   },
   "file_extension": ".py",
   "mimetype": "text/x-python",
   "name": "python",
   "nbconvert_exporter": "python",
   "pygments_lexer": "ipython3",
   "version": "3.9.12"
  },
  "orig_nbformat": 4,
  "vscode": {
   "interpreter": {
    "hash": "be18628f3b6aaaf0d9a50c1a0a68c0122e22b01f7b4495836f3dc0caac12767e"
   }
  }
 },
 "nbformat": 4,
 "nbformat_minor": 2
}
