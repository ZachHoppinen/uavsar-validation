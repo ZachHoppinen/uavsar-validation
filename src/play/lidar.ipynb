{
 "cells": [
  {
   "attachments": {},
   "cell_type": "markdown",
   "metadata": {},
   "source": [
    "analysis"
   ]
  },
  {
   "cell_type": "code",
   "execution_count": null,
   "metadata": {},
   "outputs": [],
   "source": [
    "import xarray as xr\n",
    "import numpy as np\n",
    "import pandas as pd\n",
    "import rioxarray as rxa\n",
    "import matplotlib as mpl\n",
    "import matplotlib.pyplot as plt\n",
    "from pathlib import Path\n",
    "import matplotlib as mpl\n",
    "import pandas as pd\n",
    "\n",
    "# loop through each flight pair and calculate rmse, r2, plot\n",
    "\n",
    "lidar_dir = Path('/bsuhome/zacharykeskinen/scratch/data/uavsar/ncs/lidar')\n",
    "\n",
    "for lidar_fp in lidar_dir.glob('*.sd.nc'):\n",
    "    lidar = xr.open_dataset(lidar_fp)\n",
    "    print(lidar_fp)\n",
    "\n",
    "    for img_type in ['int', 'unw']:\n",
    "        print(img_type)\n",
    "        for direction in ['232', '052']:\n",
    "            print(direction)\n",
    "            for t in lidar.time:\n",
    "                print(t.data)\n",
    "                year = pd.to_datetime(t.data).year\n",
    "                if year == 2020:\n",
    "                    vars_dir = sorted([var for var in lidar.data_vars if direction in var])\n",
    "                    uavsar_var = [var for var in vars_dir if '2020-' in var or '2019-' in var]\n",
    "                    type_var = [var for var in uavsar_var if img_type in var]\n",
    "                elif year == 2021:\n",
    "                    vars_dir = sorted([var for var in lidar.data_vars if direction in var])\n",
    "                    uavsar_var = [var for var in vars_dir if '2021-' in var]\n",
    "                    type_var = [var for var in uavsar_var if img_type in var]\n",
    "\n",
    "                if len(type_var) == 0:\n",
    "                    continue\n",
    "\n",
    "                fig, axes = plt.subplots(1, 2, figsize = (12,8))\n",
    "                dss = []\n",
    "                for var in type_var:\n",
    "                    if len(dss) == 0:\n",
    "                        dss = lidar[var]\n",
    "                    else:\n",
    "                        dss = dss + lidar[var]\n",
    "                \n",
    "                if len(dss) == 0:\n",
    "                    continue\n",
    "                \n",
    "                lidar['lidar-sd'].sel(time = t).plot(vmax = 3, vmin = 0, ax = axes[0])\n",
    "                dss.sel(band = 'VV').where(~lidar['lidar-sd'].sel(time = t).isnull()).plot(vmax = 1 , vmin = 0, ax = axes[1])\n",
    "                plt.show()\n",
    "\n",
    "                fig, ax = plt.subplots(1,1, figsize = (12,8))\n",
    "\n",
    "                xs = lidar['lidar-sd'].sel(time = t).values.ravel()\n",
    "                ys = dss.sel(band = 'VV').where(~lidar['lidar-sd'].sel(time = t).isnull()).values.ravel()\n",
    "\n",
    "                xs_tmp = xs[(~np.isnan(xs)) & (~np.isnan(ys))]\n",
    "                ys = ys[(~np.isnan(xs)) & (~np.isnan(ys))]\n",
    "                xs = xs_tmp\n",
    "\n",
    "                ax.hist2d(xs_tmp, ys, bins = 100, norm=mpl.colors.LogNorm(), cmap=mpl.cm.inferno)\n",
    "                from sklearn.metrics import mean_squared_error\n",
    "                rms = mean_squared_error(xs, ys, squared=False)\n",
    "\n",
    "                from scipy.stats import pearsonr\n",
    "                r, p = pearsonr(xs, ys)\n",
    "                ax.text(.01, .99, f'RMSE: {rms:.2}, r: {r:.2}\\nn = {len(ys):.2e}', ha='left', va='top', transform=ax.transAxes)\n",
    "                plt.show()"
   ]
  },
  {
   "cell_type": "code",
   "execution_count": null,
   "metadata": {},
   "outputs": [],
   "source": []
  }
 ],
 "metadata": {
  "kernelspec": {
   "display_name": "proj",
   "language": "python",
   "name": "python3"
  },
  "language_info": {
   "codemirror_mode": {
    "name": "ipython",
    "version": 3
   },
   "file_extension": ".py",
   "mimetype": "text/x-python",
   "name": "python",
   "nbconvert_exporter": "python",
   "pygments_lexer": "ipython3",
   "version": "3.9.16"
  },
  "orig_nbformat": 4,
  "vscode": {
   "interpreter": {
    "hash": "be18628f3b6aaaf0d9a50c1a0a68c0122e22b01f7b4495836f3dc0caac12767e"
   }
  }
 },
 "nbformat": 4,
 "nbformat_minor": 2
}
