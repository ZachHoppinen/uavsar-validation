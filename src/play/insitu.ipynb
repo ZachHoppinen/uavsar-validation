{
 "cells": [
  {
   "cell_type": "code",
   "execution_count": 1,
   "metadata": {},
   "outputs": [],
   "source": [
    "import pandas as pd\n",
    "import numpy as np\n",
    "import matplotlib.pyplot as plt\n",
    "from stats import get_stats\n",
    "\n",
    "from pathlib import Path\n",
    "\n",
    "interval_dir = Path('/bsuhome/zacharykeskinen/scratch/data/uavsar/interval')\n",
    "\n",
    "for fp in interval_dir.glob('*.csv'):\n",
    "    df = pd.read_csv(fp)\n",
    "    df = df[df.State == 'ID']"
   ]
  }
 ],
 "metadata": {
  "kernelspec": {
   "display_name": "proj",
   "language": "python",
   "name": "python3"
  },
  "language_info": {
   "codemirror_mode": {
    "name": "ipython",
    "version": 3
   },
   "file_extension": ".py",
   "mimetype": "text/x-python",
   "name": "python",
   "nbconvert_exporter": "python",
   "pygments_lexer": "ipython3",
   "version": "3.9.16"
  },
  "orig_nbformat": 4,
  "vscode": {
   "interpreter": {
    "hash": "be18628f3b6aaaf0d9a50c1a0a68c0122e22b01f7b4495836f3dc0caac12767e"
   }
  }
 },
 "nbformat": 4,
 "nbformat_minor": 2
}
