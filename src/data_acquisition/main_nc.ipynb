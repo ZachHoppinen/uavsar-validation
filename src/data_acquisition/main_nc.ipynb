{
 "cells": [
  {
   "cell_type": "code",
   "execution_count": 1,
   "metadata": {},
   "outputs": [],
   "source": [
    "from pathlib import Path\n",
    "import numpy as np\n",
    "import pandas as pd\n",
    "import xarray as xr\n",
    "import rioxarray as rxa"
   ]
  },
  {
   "cell_type": "code",
   "execution_count": 3,
   "metadata": {},
   "outputs": [],
   "source": [
    "ds = xr.open_dataset('/bsuhome/zacharykeskinen/scratch/data/uavsar/ncs/model/model.re.nc')"
   ]
  },
  {
   "attachments": {},
   "cell_type": "markdown",
   "metadata": {},
   "source": [
    "pa.PyAPS"
   ]
  },
  {
   "cell_type": "code",
   "execution_count": 5,
   "metadata": {},
   "outputs": [],
   "source": [
    "lvls = np.array([1, 2, 3, 5, 7, 10, 20, 30, 50, 70, 100, 125, 150, 175, \n",
    "                     200, 225, 250, 300, 350, 400, 450, 500, 550, 600, 650, 700, 750, 775, \n",
    "                     800, 825, 850, 875, 900, 925, 950, 975, 1000])\n",
    "nlvls = len(lvls)\n",
    "gphind = np.arange(nlvls)*12+1"
   ]
  },
  {
   "cell_type": "code",
   "execution_count": 6,
   "metadata": {},
   "outputs": [
    {
     "name": "stdout",
     "output_type": "stream",
     "text": [
      "1\n",
      "13\n",
      "25\n",
      "37\n",
      "49\n",
      "61\n",
      "73\n",
      "85\n",
      "97\n",
      "109\n",
      "121\n",
      "133\n",
      "145\n",
      "157\n",
      "169\n",
      "181\n",
      "193\n",
      "205\n",
      "217\n",
      "229\n",
      "241\n",
      "253\n",
      "265\n",
      "277\n",
      "289\n",
      "301\n",
      "313\n",
      "325\n",
      "337\n",
      "349\n",
      "361\n",
      "373\n",
      "385\n",
      "397\n",
      "409\n",
      "421\n",
      "433\n"
     ]
    }
   ],
   "source": [
    "lvls = 100.0*lvls                 #Conversion to absolute pressure\n",
    "for i in range(nlvls):\n",
    "    print(gphind[i])"
   ]
  }
 ],
 "metadata": {
  "kernelspec": {
   "display_name": "validation",
   "language": "python",
   "name": "python3"
  },
  "language_info": {
   "codemirror_mode": {
    "name": "ipython",
    "version": 3
   },
   "file_extension": ".py",
   "mimetype": "text/x-python",
   "name": "python",
   "nbconvert_exporter": "python",
   "pygments_lexer": "ipython3",
   "version": "3.11.3"
  },
  "orig_nbformat": 4
 },
 "nbformat": 4,
 "nbformat_minor": 2
}
