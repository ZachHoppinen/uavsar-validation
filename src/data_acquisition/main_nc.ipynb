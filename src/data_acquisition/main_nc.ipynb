{
 "cells": [
  {
   "cell_type": "code",
   "execution_count": 1,
   "metadata": {},
   "outputs": [],
   "source": [
    "from pathlib import Path\n",
    "import numpy as np\n",
    "import pandas as pd\n",
    "import geopandas as gpd\n",
    "import xarray as xr\n",
    "import rioxarray as rxa\n",
    "import matplotlib.pyplot as plt"
   ]
  },
  {
   "attachments": {},
   "cell_type": "markdown",
   "metadata": {},
   "source": [
    "# get uavsar VV coherence, int, unw, inc, dem"
   ]
  },
  {
   "cell_type": "code",
   "execution_count": 2,
   "metadata": {},
   "outputs": [],
   "source": [
    "data_dir = Path('/bsuhome/zacharykeskinen/scratch/data/uavsar')\n",
    "ncs_dir = data_dir.joinpath('ncs')\n",
    "tif_dir = data_dir.joinpath('tifs', 'Lowman, CO')\n",
    "geom_dir = ncs_dir.joinpath('geometry')\n",
    "tree_dir = data_dir.joinpath('trees')\n",
    "nlcd = tree_dir.joinpath('nlcd')\n",
    "biomass = tree_dir.joinpath('biomass')"
   ]
  },
  {
   "cell_type": "code",
   "execution_count": 3,
   "metadata": {},
   "outputs": [],
   "source": [
    "ds = xr.open_dataset(ncs_dir.joinpath('tmp_uv_geom_atm_veg.nc'))"
   ]
  },
  {
   "cell_type": "code",
   "execution_count": 26,
   "metadata": {},
   "outputs": [
    {
     "ename": "MemoryError",
     "evalue": "Unable to allocate 30.4 GiB for an array with shape (9, 17017, 26631) and data type float64",
     "output_type": "error",
     "traceback": [
      "\u001b[0;31m---------------------------------------------------------------------------\u001b[0m",
      "\u001b[0;31mMemoryError\u001b[0m                               Traceback (most recent call last)",
      "Cell \u001b[0;32mIn[26], line 1\u001b[0m\n\u001b[0;32m----> 1\u001b[0m ds\u001b[39m.\u001b[39;49mto_netcdf(ncs_dir\u001b[39m.\u001b[39;49mjoinpath(\u001b[39m'\u001b[39;49m\u001b[39mtmp_uv_geom_atm_veg.nc\u001b[39;49m\u001b[39m'\u001b[39;49m))\n",
      "File \u001b[0;32m~/miniconda3/envs/validation/lib/python3.11/site-packages/xarray/core/dataset.py:1917\u001b[0m, in \u001b[0;36mDataset.to_netcdf\u001b[0;34m(self, path, mode, format, group, engine, encoding, unlimited_dims, compute, invalid_netcdf)\u001b[0m\n\u001b[1;32m   1914\u001b[0m     encoding \u001b[39m=\u001b[39m {}\n\u001b[1;32m   1915\u001b[0m \u001b[39mfrom\u001b[39;00m \u001b[39mxarray\u001b[39;00m\u001b[39m.\u001b[39;00m\u001b[39mbackends\u001b[39;00m\u001b[39m.\u001b[39;00m\u001b[39mapi\u001b[39;00m \u001b[39mimport\u001b[39;00m to_netcdf\n\u001b[0;32m-> 1917\u001b[0m \u001b[39mreturn\u001b[39;00m to_netcdf(  \u001b[39m# type: ignore  # mypy cannot resolve the overloads:(\u001b[39;49;00m\n\u001b[1;32m   1918\u001b[0m     \u001b[39mself\u001b[39;49m,\n\u001b[1;32m   1919\u001b[0m     path,\n\u001b[1;32m   1920\u001b[0m     mode\u001b[39m=\u001b[39;49mmode,\n\u001b[1;32m   1921\u001b[0m     \u001b[39mformat\u001b[39;49m\u001b[39m=\u001b[39;49m\u001b[39mformat\u001b[39;49m,\n\u001b[1;32m   1922\u001b[0m     group\u001b[39m=\u001b[39;49mgroup,\n\u001b[1;32m   1923\u001b[0m     engine\u001b[39m=\u001b[39;49mengine,\n\u001b[1;32m   1924\u001b[0m     encoding\u001b[39m=\u001b[39;49mencoding,\n\u001b[1;32m   1925\u001b[0m     unlimited_dims\u001b[39m=\u001b[39;49munlimited_dims,\n\u001b[1;32m   1926\u001b[0m     compute\u001b[39m=\u001b[39;49mcompute,\n\u001b[1;32m   1927\u001b[0m     multifile\u001b[39m=\u001b[39;49m\u001b[39mFalse\u001b[39;49;00m,\n\u001b[1;32m   1928\u001b[0m     invalid_netcdf\u001b[39m=\u001b[39;49minvalid_netcdf,\n\u001b[1;32m   1929\u001b[0m )\n",
      "File \u001b[0;32m~/miniconda3/envs/validation/lib/python3.11/site-packages/xarray/backends/api.py:1216\u001b[0m, in \u001b[0;36mto_netcdf\u001b[0;34m(dataset, path_or_file, mode, format, group, engine, encoding, unlimited_dims, compute, multifile, invalid_netcdf)\u001b[0m\n\u001b[1;32m   1211\u001b[0m \u001b[39m# TODO: figure out how to refactor this logic (here and in save_mfdataset)\u001b[39;00m\n\u001b[1;32m   1212\u001b[0m \u001b[39m# to avoid this mess of conditionals\u001b[39;00m\n\u001b[1;32m   1213\u001b[0m \u001b[39mtry\u001b[39;00m:\n\u001b[1;32m   1214\u001b[0m     \u001b[39m# TODO: allow this work (setting up the file for writing array data)\u001b[39;00m\n\u001b[1;32m   1215\u001b[0m     \u001b[39m# to be parallelized with dask\u001b[39;00m\n\u001b[0;32m-> 1216\u001b[0m     dump_to_store(\n\u001b[1;32m   1217\u001b[0m         dataset, store, writer, encoding\u001b[39m=\u001b[39;49mencoding, unlimited_dims\u001b[39m=\u001b[39;49munlimited_dims\n\u001b[1;32m   1218\u001b[0m     )\n\u001b[1;32m   1219\u001b[0m     \u001b[39mif\u001b[39;00m autoclose:\n\u001b[1;32m   1220\u001b[0m         store\u001b[39m.\u001b[39mclose()\n",
      "File \u001b[0;32m~/miniconda3/envs/validation/lib/python3.11/site-packages/xarray/backends/api.py:1263\u001b[0m, in \u001b[0;36mdump_to_store\u001b[0;34m(dataset, store, writer, encoder, encoding, unlimited_dims)\u001b[0m\n\u001b[1;32m   1260\u001b[0m \u001b[39mif\u001b[39;00m encoder:\n\u001b[1;32m   1261\u001b[0m     variables, attrs \u001b[39m=\u001b[39m encoder(variables, attrs)\n\u001b[0;32m-> 1263\u001b[0m store\u001b[39m.\u001b[39;49mstore(variables, attrs, check_encoding, writer, unlimited_dims\u001b[39m=\u001b[39;49munlimited_dims)\n",
      "File \u001b[0;32m~/miniconda3/envs/validation/lib/python3.11/site-packages/xarray/backends/common.py:269\u001b[0m, in \u001b[0;36mAbstractWritableDataStore.store\u001b[0;34m(self, variables, attributes, check_encoding_set, writer, unlimited_dims)\u001b[0m\n\u001b[1;32m    266\u001b[0m \u001b[39mif\u001b[39;00m writer \u001b[39mis\u001b[39;00m \u001b[39mNone\u001b[39;00m:\n\u001b[1;32m    267\u001b[0m     writer \u001b[39m=\u001b[39m ArrayWriter()\n\u001b[0;32m--> 269\u001b[0m variables, attributes \u001b[39m=\u001b[39m \u001b[39mself\u001b[39;49m\u001b[39m.\u001b[39;49mencode(variables, attributes)\n\u001b[1;32m    271\u001b[0m \u001b[39mself\u001b[39m\u001b[39m.\u001b[39mset_attributes(attributes)\n\u001b[1;32m    272\u001b[0m \u001b[39mself\u001b[39m\u001b[39m.\u001b[39mset_dimensions(variables, unlimited_dims\u001b[39m=\u001b[39munlimited_dims)\n",
      "File \u001b[0;32m~/miniconda3/envs/validation/lib/python3.11/site-packages/xarray/backends/common.py:358\u001b[0m, in \u001b[0;36mWritableCFDataStore.encode\u001b[0;34m(self, variables, attributes)\u001b[0m\n\u001b[1;32m    355\u001b[0m \u001b[39mdef\u001b[39;00m \u001b[39mencode\u001b[39m(\u001b[39mself\u001b[39m, variables, attributes):\n\u001b[1;32m    356\u001b[0m     \u001b[39m# All NetCDF files get CF encoded by default, without this attempting\u001b[39;00m\n\u001b[1;32m    357\u001b[0m     \u001b[39m# to write times, for example, would fail.\u001b[39;00m\n\u001b[0;32m--> 358\u001b[0m     variables, attributes \u001b[39m=\u001b[39m cf_encoder(variables, attributes)\n\u001b[1;32m    359\u001b[0m     variables \u001b[39m=\u001b[39m {k: \u001b[39mself\u001b[39m\u001b[39m.\u001b[39mencode_variable(v) \u001b[39mfor\u001b[39;00m k, v \u001b[39min\u001b[39;00m variables\u001b[39m.\u001b[39mitems()}\n\u001b[1;32m    360\u001b[0m     attributes \u001b[39m=\u001b[39m {k: \u001b[39mself\u001b[39m\u001b[39m.\u001b[39mencode_attribute(v) \u001b[39mfor\u001b[39;00m k, v \u001b[39min\u001b[39;00m attributes\u001b[39m.\u001b[39mitems()}\n",
      "File \u001b[0;32m~/miniconda3/envs/validation/lib/python3.11/site-packages/xarray/conventions.py:775\u001b[0m, in \u001b[0;36mcf_encoder\u001b[0;34m(variables, attributes)\u001b[0m\n\u001b[1;32m    772\u001b[0m \u001b[39m# add encoding for time bounds variables if present.\u001b[39;00m\n\u001b[1;32m    773\u001b[0m _update_bounds_encoding(variables)\n\u001b[0;32m--> 775\u001b[0m new_vars \u001b[39m=\u001b[39m {k: encode_cf_variable(v, name\u001b[39m=\u001b[39;49mk) \u001b[39mfor\u001b[39;49;00m k, v \u001b[39min\u001b[39;49;00m variables\u001b[39m.\u001b[39;49mitems()}\n\u001b[1;32m    777\u001b[0m \u001b[39m# Remove attrs from bounds variables (issue #2921)\u001b[39;00m\n\u001b[1;32m    778\u001b[0m \u001b[39mfor\u001b[39;00m var \u001b[39min\u001b[39;00m new_vars\u001b[39m.\u001b[39mvalues():\n",
      "File \u001b[0;32m~/miniconda3/envs/validation/lib/python3.11/site-packages/xarray/conventions.py:775\u001b[0m, in \u001b[0;36m<dictcomp>\u001b[0;34m(.0)\u001b[0m\n\u001b[1;32m    772\u001b[0m \u001b[39m# add encoding for time bounds variables if present.\u001b[39;00m\n\u001b[1;32m    773\u001b[0m _update_bounds_encoding(variables)\n\u001b[0;32m--> 775\u001b[0m new_vars \u001b[39m=\u001b[39m {k: encode_cf_variable(v, name\u001b[39m=\u001b[39;49mk) \u001b[39mfor\u001b[39;00m k, v \u001b[39min\u001b[39;00m variables\u001b[39m.\u001b[39mitems()}\n\u001b[1;32m    777\u001b[0m \u001b[39m# Remove attrs from bounds variables (issue #2921)\u001b[39;00m\n\u001b[1;32m    778\u001b[0m \u001b[39mfor\u001b[39;00m var \u001b[39min\u001b[39;00m new_vars\u001b[39m.\u001b[39mvalues():\n",
      "File \u001b[0;32m~/miniconda3/envs/validation/lib/python3.11/site-packages/xarray/conventions.py:186\u001b[0m, in \u001b[0;36mencode_cf_variable\u001b[0;34m(var, needs_copy, name)\u001b[0m\n\u001b[1;32m    174\u001b[0m ensure_not_multiindex(var, name\u001b[39m=\u001b[39mname)\n\u001b[1;32m    176\u001b[0m \u001b[39mfor\u001b[39;00m coder \u001b[39min\u001b[39;00m [\n\u001b[1;32m    177\u001b[0m     times\u001b[39m.\u001b[39mCFDatetimeCoder(),\n\u001b[1;32m    178\u001b[0m     times\u001b[39m.\u001b[39mCFTimedeltaCoder(),\n\u001b[0;32m   (...)\u001b[0m\n\u001b[1;32m    184\u001b[0m     variables\u001b[39m.\u001b[39mBooleanCoder(),\n\u001b[1;32m    185\u001b[0m ]:\n\u001b[0;32m--> 186\u001b[0m     var \u001b[39m=\u001b[39m coder\u001b[39m.\u001b[39;49mencode(var, name\u001b[39m=\u001b[39;49mname)\n\u001b[1;32m    188\u001b[0m \u001b[39m# TODO(kmuehlbauer): check if ensure_dtype_not_object can be moved to backends:\u001b[39;00m\n\u001b[1;32m    189\u001b[0m var \u001b[39m=\u001b[39m ensure_dtype_not_object(var, name\u001b[39m=\u001b[39mname)\n",
      "File \u001b[0;32m~/miniconda3/envs/validation/lib/python3.11/site-packages/xarray/coding/times.py:703\u001b[0m, in \u001b[0;36mCFDatetimeCoder.encode\u001b[0;34m(self, variable, name)\u001b[0m\n\u001b[1;32m    701\u001b[0m \u001b[39mdef\u001b[39;00m \u001b[39mencode\u001b[39m(\u001b[39mself\u001b[39m, variable: Variable, name: T_Name \u001b[39m=\u001b[39m \u001b[39mNone\u001b[39;00m) \u001b[39m-\u001b[39m\u001b[39m>\u001b[39m Variable:\n\u001b[1;32m    702\u001b[0m     \u001b[39mif\u001b[39;00m np\u001b[39m.\u001b[39missubdtype(\n\u001b[0;32m--> 703\u001b[0m         variable\u001b[39m.\u001b[39;49mdata\u001b[39m.\u001b[39mdtype, np\u001b[39m.\u001b[39mdatetime64\n\u001b[1;32m    704\u001b[0m     ) \u001b[39mor\u001b[39;00m contains_cftime_datetimes(variable):\n\u001b[1;32m    705\u001b[0m         dims, data, attrs, encoding \u001b[39m=\u001b[39m unpack_for_encoding(variable)\n\u001b[1;32m    707\u001b[0m         (data, units, calendar) \u001b[39m=\u001b[39m encode_cf_datetime(\n\u001b[1;32m    708\u001b[0m             data, encoding\u001b[39m.\u001b[39mpop(\u001b[39m\"\u001b[39m\u001b[39munits\u001b[39m\u001b[39m\"\u001b[39m, \u001b[39mNone\u001b[39;00m), encoding\u001b[39m.\u001b[39mpop(\u001b[39m\"\u001b[39m\u001b[39mcalendar\u001b[39m\u001b[39m\"\u001b[39m, \u001b[39mNone\u001b[39;00m)\n\u001b[1;32m    709\u001b[0m         )\n",
      "File \u001b[0;32m~/miniconda3/envs/validation/lib/python3.11/site-packages/xarray/core/variable.py:430\u001b[0m, in \u001b[0;36mVariable.data\u001b[0;34m(self)\u001b[0m\n\u001b[1;32m    428\u001b[0m     \u001b[39mreturn\u001b[39;00m \u001b[39mself\u001b[39m\u001b[39m.\u001b[39m_data\n\u001b[1;32m    429\u001b[0m \u001b[39melif\u001b[39;00m \u001b[39misinstance\u001b[39m(\u001b[39mself\u001b[39m\u001b[39m.\u001b[39m_data, indexing\u001b[39m.\u001b[39mExplicitlyIndexed):\n\u001b[0;32m--> 430\u001b[0m     \u001b[39mreturn\u001b[39;00m \u001b[39mself\u001b[39;49m\u001b[39m.\u001b[39;49m_data\u001b[39m.\u001b[39;49mget_duck_array()\n\u001b[1;32m    431\u001b[0m \u001b[39melse\u001b[39;00m:\n\u001b[1;32m    432\u001b[0m     \u001b[39mreturn\u001b[39;00m \u001b[39mself\u001b[39m\u001b[39m.\u001b[39mvalues\n",
      "File \u001b[0;32m~/miniconda3/envs/validation/lib/python3.11/site-packages/xarray/core/indexing.py:695\u001b[0m, in \u001b[0;36mMemoryCachedArray.get_duck_array\u001b[0;34m(self)\u001b[0m\n\u001b[1;32m    694\u001b[0m \u001b[39mdef\u001b[39;00m \u001b[39mget_duck_array\u001b[39m(\u001b[39mself\u001b[39m):\n\u001b[0;32m--> 695\u001b[0m     \u001b[39mself\u001b[39;49m\u001b[39m.\u001b[39;49m_ensure_cached()\n\u001b[1;32m    696\u001b[0m     \u001b[39mreturn\u001b[39;00m \u001b[39mself\u001b[39m\u001b[39m.\u001b[39marray\u001b[39m.\u001b[39mget_duck_array()\n",
      "File \u001b[0;32m~/miniconda3/envs/validation/lib/python3.11/site-packages/xarray/core/indexing.py:689\u001b[0m, in \u001b[0;36mMemoryCachedArray._ensure_cached\u001b[0;34m(self)\u001b[0m\n\u001b[1;32m    688\u001b[0m \u001b[39mdef\u001b[39;00m \u001b[39m_ensure_cached\u001b[39m(\u001b[39mself\u001b[39m):\n\u001b[0;32m--> 689\u001b[0m     \u001b[39mself\u001b[39m\u001b[39m.\u001b[39marray \u001b[39m=\u001b[39m as_indexable(\u001b[39mself\u001b[39;49m\u001b[39m.\u001b[39;49marray\u001b[39m.\u001b[39;49mget_duck_array())\n",
      "File \u001b[0;32m~/miniconda3/envs/validation/lib/python3.11/site-packages/xarray/core/indexing.py:663\u001b[0m, in \u001b[0;36mCopyOnWriteArray.get_duck_array\u001b[0;34m(self)\u001b[0m\n\u001b[1;32m    662\u001b[0m \u001b[39mdef\u001b[39;00m \u001b[39mget_duck_array\u001b[39m(\u001b[39mself\u001b[39m):\n\u001b[0;32m--> 663\u001b[0m     \u001b[39mreturn\u001b[39;00m \u001b[39mself\u001b[39;49m\u001b[39m.\u001b[39;49marray\u001b[39m.\u001b[39;49mget_duck_array()\n",
      "File \u001b[0;32m~/miniconda3/envs/validation/lib/python3.11/site-packages/xarray/core/indexing.py:550\u001b[0m, in \u001b[0;36mLazilyIndexedArray.get_duck_array\u001b[0;34m(self)\u001b[0m\n\u001b[1;32m    549\u001b[0m \u001b[39mdef\u001b[39;00m \u001b[39mget_duck_array\u001b[39m(\u001b[39mself\u001b[39m):\n\u001b[0;32m--> 550\u001b[0m     array \u001b[39m=\u001b[39m \u001b[39mself\u001b[39;49m\u001b[39m.\u001b[39;49marray[\u001b[39mself\u001b[39;49m\u001b[39m.\u001b[39;49mkey]\n\u001b[1;32m    551\u001b[0m     \u001b[39m# self.array[self.key] is now a numpy array when\u001b[39;00m\n\u001b[1;32m    552\u001b[0m     \u001b[39m# self.array is a BackendArray subclass\u001b[39;00m\n\u001b[1;32m    553\u001b[0m     \u001b[39m# and self.key is BasicIndexer((slice(None, None, None),))\u001b[39;00m\n\u001b[1;32m    554\u001b[0m     \u001b[39m# so we need the explicit check for ExplicitlyIndexed\u001b[39;00m\n\u001b[1;32m    555\u001b[0m     \u001b[39mif\u001b[39;00m \u001b[39misinstance\u001b[39m(array, ExplicitlyIndexed):\n",
      "File \u001b[0;32m~/miniconda3/envs/validation/lib/python3.11/site-packages/xarray/backends/netCDF4_.py:98\u001b[0m, in \u001b[0;36mNetCDF4ArrayWrapper.__getitem__\u001b[0;34m(self, key)\u001b[0m\n\u001b[1;32m     97\u001b[0m \u001b[39mdef\u001b[39;00m \u001b[39m__getitem__\u001b[39m(\u001b[39mself\u001b[39m, key):\n\u001b[0;32m---> 98\u001b[0m     \u001b[39mreturn\u001b[39;00m indexing\u001b[39m.\u001b[39;49mexplicit_indexing_adapter(\n\u001b[1;32m     99\u001b[0m         key, \u001b[39mself\u001b[39;49m\u001b[39m.\u001b[39;49mshape, indexing\u001b[39m.\u001b[39;49mIndexingSupport\u001b[39m.\u001b[39;49mOUTER, \u001b[39mself\u001b[39;49m\u001b[39m.\u001b[39;49m_getitem\n\u001b[1;32m    100\u001b[0m     )\n",
      "File \u001b[0;32m~/miniconda3/envs/validation/lib/python3.11/site-packages/xarray/core/indexing.py:857\u001b[0m, in \u001b[0;36mexplicit_indexing_adapter\u001b[0;34m(key, shape, indexing_support, raw_indexing_method)\u001b[0m\n\u001b[1;32m    835\u001b[0m \u001b[39m\u001b[39m\u001b[39m\"\"\"Support explicit indexing by delegating to a raw indexing method.\u001b[39;00m\n\u001b[1;32m    836\u001b[0m \n\u001b[1;32m    837\u001b[0m \u001b[39mOuter and/or vectorized indexers are supported by indexing a second time\u001b[39;00m\n\u001b[0;32m   (...)\u001b[0m\n\u001b[1;32m    854\u001b[0m \u001b[39mIndexing result, in the form of a duck numpy-array.\u001b[39;00m\n\u001b[1;32m    855\u001b[0m \u001b[39m\"\"\"\u001b[39;00m\n\u001b[1;32m    856\u001b[0m raw_key, numpy_indices \u001b[39m=\u001b[39m decompose_indexer(key, shape, indexing_support)\n\u001b[0;32m--> 857\u001b[0m result \u001b[39m=\u001b[39m raw_indexing_method(raw_key\u001b[39m.\u001b[39;49mtuple)\n\u001b[1;32m    858\u001b[0m \u001b[39mif\u001b[39;00m numpy_indices\u001b[39m.\u001b[39mtuple:\n\u001b[1;32m    859\u001b[0m     \u001b[39m# index the loaded np.ndarray\u001b[39;00m\n\u001b[1;32m    860\u001b[0m     result \u001b[39m=\u001b[39m NumpyIndexingAdapter(result)[numpy_indices]\n",
      "File \u001b[0;32m~/miniconda3/envs/validation/lib/python3.11/site-packages/xarray/backends/netCDF4_.py:111\u001b[0m, in \u001b[0;36mNetCDF4ArrayWrapper._getitem\u001b[0;34m(self, key)\u001b[0m\n\u001b[1;32m    109\u001b[0m     \u001b[39mwith\u001b[39;00m \u001b[39mself\u001b[39m\u001b[39m.\u001b[39mdatastore\u001b[39m.\u001b[39mlock:\n\u001b[1;32m    110\u001b[0m         original_array \u001b[39m=\u001b[39m \u001b[39mself\u001b[39m\u001b[39m.\u001b[39mget_array(needs_lock\u001b[39m=\u001b[39m\u001b[39mFalse\u001b[39;00m)\n\u001b[0;32m--> 111\u001b[0m         array \u001b[39m=\u001b[39m getitem(original_array, key)\n\u001b[1;32m    112\u001b[0m \u001b[39mexcept\u001b[39;00m \u001b[39mIndexError\u001b[39;00m:\n\u001b[1;32m    113\u001b[0m     \u001b[39m# Catch IndexError in netCDF4 and return a more informative\u001b[39;00m\n\u001b[1;32m    114\u001b[0m     \u001b[39m# error message.  This is most often called when an unsorted\u001b[39;00m\n\u001b[1;32m    115\u001b[0m     \u001b[39m# indexer is used before the data is loaded from disk.\u001b[39;00m\n\u001b[1;32m    116\u001b[0m     msg \u001b[39m=\u001b[39m (\n\u001b[1;32m    117\u001b[0m         \u001b[39m\"\u001b[39m\u001b[39mThe indexing operation you are attempting to perform \u001b[39m\u001b[39m\"\u001b[39m\n\u001b[1;32m    118\u001b[0m         \u001b[39m\"\u001b[39m\u001b[39mis not valid on netCDF4.Variable object. Try loading \u001b[39m\u001b[39m\"\u001b[39m\n\u001b[1;32m    119\u001b[0m         \u001b[39m\"\u001b[39m\u001b[39myour data into memory first by calling .load().\u001b[39m\u001b[39m\"\u001b[39m\n\u001b[1;32m    120\u001b[0m     )\n",
      "File \u001b[0;32msrc/netCDF4/_netCDF4.pyx:4921\u001b[0m, in \u001b[0;36mnetCDF4._netCDF4.Variable.__getitem__\u001b[0;34m()\u001b[0m\n",
      "\u001b[0;31mMemoryError\u001b[0m: Unable to allocate 30.4 GiB for an array with shape (9, 17017, 26631) and data type float64"
     ]
    }
   ],
   "source": [
    "ds.to_netcdf(ncs_dir.joinpath('tmp_uv_geom_atm_veg.nc'))"
   ]
  }
 ],
 "metadata": {
  "kernelspec": {
   "display_name": "validation",
   "language": "python",
   "name": "python3"
  },
  "language_info": {
   "codemirror_mode": {
    "name": "ipython",
    "version": 3
   },
   "file_extension": ".py",
   "mimetype": "text/x-python",
   "name": "python",
   "nbconvert_exporter": "python",
   "pygments_lexer": "ipython3",
   "version": "3.11.3"
  },
  "orig_nbformat": 4
 },
 "nbformat": 4,
 "nbformat_minor": 2
}
