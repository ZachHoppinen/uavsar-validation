{
 "cells": [
  {
   "cell_type": "code",
   "execution_count": 1,
   "metadata": {},
   "outputs": [],
   "source": [
    "from pathlib import Path\n",
    "import numpy as np\n",
    "import pandas as pd\n",
    "import geopandas as gpd\n",
    "import xarray as xr\n",
    "import rioxarray as rxa\n",
    "import matplotlib.pyplot as plt\n",
    "\n",
    "from pyproj import Transformer"
   ]
  },
  {
   "attachments": {},
   "cell_type": "markdown",
   "metadata": {},
   "source": [
    "# get uavsar VV coherence, int, unw, inc, dem"
   ]
  },
  {
   "cell_type": "code",
   "execution_count": 2,
   "metadata": {},
   "outputs": [],
   "source": [
    "data_dir = Path('/bsuhome/zacharykeskinen/scratch/data/uavsar')\n",
    "ncs_dir = data_dir.joinpath('ncs')\n",
    "tif_dir = data_dir.joinpath('tifs', 'Lowman, CO')\n",
    "geom_dir = ncs_dir.joinpath('geometry')\n",
    "tree_dir = data_dir.joinpath('trees')\n",
    "nlcd = tree_dir.joinpath('nlcd')\n",
    "biomass = tree_dir.joinpath('biomass')\n",
    "\n",
    "model_dir = ncs_dir.joinpath('model')"
   ]
  },
  {
   "cell_type": "code",
   "execution_count": 35,
   "metadata": {},
   "outputs": [],
   "source": [
    "ds = xr.open_dataset(ncs_dir.joinpath('final_uv_geom_atm_veg_model_v1.nc')).isel(x = slice(0, -1, 100), y = slice(0, -1, 100))\n",
    "ds = ds.sortby('time1')"
   ]
  },
  {
   "cell_type": "code",
   "execution_count": 37,
   "metadata": {},
   "outputs": [
    {
     "name": "stderr",
     "output_type": "stream",
     "text": [
      "<__array_function__ internals>:200: RuntimeWarning: invalid value encountered in cast\n"
     ]
    }
   ],
   "source": [
    "int_bin = ds[['int_phase', 'dem']].groupby_bins('dem', np.arange(ds.dem.min(), ds.dem.max(), 100))"
   ]
  }
 ],
 "metadata": {
  "kernelspec": {
   "display_name": "validation",
   "language": "python",
   "name": "python3"
  },
  "language_info": {
   "codemirror_mode": {
    "name": "ipython",
    "version": 3
   },
   "file_extension": ".py",
   "mimetype": "text/x-python",
   "name": "python",
   "nbconvert_exporter": "python",
   "pygments_lexer": "ipython3",
   "version": "3.11.3"
  },
  "orig_nbformat": 4
 },
 "nbformat": 4,
 "nbformat_minor": 2
}
