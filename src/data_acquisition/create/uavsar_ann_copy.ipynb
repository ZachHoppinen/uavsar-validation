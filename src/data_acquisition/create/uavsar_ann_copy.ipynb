{
 "cells": [
  {
   "cell_type": "code",
   "execution_count": 1,
   "metadata": {},
   "outputs": [],
   "source": [
    "from pathlib import Path\n",
    "import pandas as pd"
   ]
  },
  {
   "cell_type": "code",
   "execution_count": 10,
   "metadata": {},
   "outputs": [],
   "source": [
    "data_dir = Path('/bsuhome/zacharykeskinen/scratch/data/uavsar')\n",
    "ncs_dir = data_dir.joinpath('ncs')\n",
    "tif_dir = data_dir.joinpath('tifs', 'Lowman, CO')\n",
    "out_dir = Path('/bsuhome/zacharykeskinen/uavsar-validation/data/anns')"
   ]
  },
  {
   "cell_type": "code",
   "execution_count": 12,
   "metadata": {},
   "outputs": [
    {
     "name": "stdout",
     "output_type": "stream",
     "text": [
      "lowman_23205_21009-004_21012-000_0007d_s01_L090_01_int_grd\n",
      "lowman_23205_21015-008_21017-018_0007d_s01_L090_01_int_grd\n",
      "lowman_23205_21012-000_21015-008_0021d_s01_L090_01_int_grd\n",
      "lowman_23205_21019-018_21021-006_0006d_s01_L090_01_int_grd\n",
      "lowman_23205_19084-017_20002-007_0042d_s01_L090_01_int_grd\n",
      "lowman_23205_21008-000_21009-004_0007d_s01_L090_01_int_grd\n",
      "lowman_23205_21017-018_21019-018_0006d_s01_L090_01_int_grd\n",
      "lowman_23205_20002-007_20007-003_0013d_s01_L090_01_int_grd\n",
      "lowman_23205_21002-004_21004-003_0005d_s01_L090_01_int_grd\n",
      "lowman_23205_20007-003_20011-003_0008d_s01_L090_01_int_grd\n",
      "lowman_23205_21004-003_21008-000_0007d_s01_L090_01_int_grd\n",
      "lowman_23205_20011-003_20016-004_0019d_s01_L090_01_int_grd\n"
     ]
    }
   ],
   "source": [
    "for i, pair_dir in enumerate(tif_dir.glob('lowman_232*_grd')):\n",
    "\n",
    "    print(pair_dir.stem)\n",
    "\n",
    "    # get files\n",
    "    ann = pd.read_csv(next(pair_dir.glob('*.csv')), index_col=0)\n",
    "\n",
    "    t1 = pd.to_datetime(ann.loc['value','start time of acquisition for pass 1'])\n",
    "    t2 = pd.to_datetime(ann.loc['value','start time of acquisition for pass 2'])\n",
    "\n",
    "    ann.to_csv(out_dir.joinpath(f\"232_{t1.strftime('%Y-%m-%d')}_{t2.strftime('%Y-%m-%d')}.csv\"))"
   ]
  }
 ],
 "metadata": {
  "kernelspec": {
   "display_name": "validation",
   "language": "python",
   "name": "python3"
  },
  "language_info": {
   "codemirror_mode": {
    "name": "ipython",
    "version": 3
   },
   "file_extension": ".py",
   "mimetype": "text/x-python",
   "name": "python",
   "nbconvert_exporter": "python",
   "pygments_lexer": "ipython3",
   "version": "3.11.3"
  },
  "orig_nbformat": 4
 },
 "nbformat": 4,
 "nbformat_minor": 2
}
